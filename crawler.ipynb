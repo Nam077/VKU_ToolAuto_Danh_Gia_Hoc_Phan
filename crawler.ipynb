{
  "cells": [
    {
      "cell_type": "code",
      "execution_count": null,
      "metadata": {
        "colab": {
          "base_uri": "https://localhost:8080/"
        },
        "id": "PGTGwCIdl0qy",
        "outputId": "93998d9a-33a7-4368-e9a1-93bd234b412e"
      },
      "outputs": [],
      "source": [
        "pip install requests"
      ]
    },
    {
      "cell_type": "code",
      "execution_count": null,
      "metadata": {
        "colab": {
          "base_uri": "https://localhost:8080/"
        },
        "id": "dZJh_BKnmDtz",
        "outputId": "b568b12a-e817-4de4-9340-9ad66a125ed3"
      },
      "outputs": [],
      "source": [
        "pip install beautifulsoup4"
      ]
    },
    {
      "cell_type": "code",
      "execution_count": null,
      "metadata": {
        "id": "oenYezJFmLOg"
      },
      "outputs": [],
      "source": [
        "import requests\n",
        "from bs4 import BeautifulSoup"
      ]
    },
    {
      "cell_type": "code",
      "execution_count": null,
      "metadata": {
        "id": "uqVqRG7ImUtG"
      },
      "outputs": [],
      "source": [
        "cookie = {\n",
        "  'laravel_session': ''\n",
        "  'XSRF-TOKEN':  ''\n",
        "}\n",
        "class Scraper:\n",
        "  def __init__(self, url, cookie):\n",
        "    self.url = url\n",
        "    self.cookie = cookie\n",
        "  def get_page(self):\n",
        "    page = requests.get(self.url, cookies=self.cookie)\n",
        "    return page.text\n",
        "  def get_soup(self):\n",
        "    soup = BeautifulSoup(self.get_page(), 'html.parser')\n",
        "    return soup\n",
        "  def get_title(self):\n",
        "    soup = self.get_soup()\n",
        "    title = soup.title.string\n",
        "    return title\n",
        "  def get_all_links(self):\n",
        "    soup = self.get_soup()\n",
        "    links = soup.find_all('a')\n",
        "    return links\n",
        "  def get_table(self):\n",
        "    soup = self.get_soup()\n",
        "    table = soup.find_all('table')\n",
        "    return table\n",
        "\n",
        "scraper = Scraper('https://daotao.vku.udn.vn/sv/hoc-phan-con-lai', cookie)\n",
        "table = scraper.get_table()"
      ]
    },
    {
      "cell_type": "code",
      "execution_count": null,
      "metadata": {
        "colab": {
          "base_uri": "https://localhost:8080/"
        },
        "id": "CJbNLlyC-oYo",
        "outputId": "18a3c3f8-962f-4e62-eb4c-419a3f0ef7ce"
      },
      "outputs": [],
      "source": [
        "print(table)"
      ]
    },
    {
      "cell_type": "code",
      "execution_count": null,
      "metadata": {
        "id": "-ilv6PkR9_Sb"
      },
      "outputs": [],
      "source": [
        "class HocPhan:\n",
        "  def __init__(self, ten, so_tin_chi):\n",
        "    self.ten = ten\n",
        "    self.so_tin_chi = so_tin_chi\n",
        "  def __str__(self):\n",
        "    return f'{self.ten} - {self.so_tin_chi}'"
      ]
    },
    {
      "cell_type": "code",
      "execution_count": null,
      "metadata": {
        "id": "are4js-fwLhg"
      },
      "outputs": [],
      "source": [
        "arrHocPhan: list[HocPhan] = []\n",
        "body = table[0].find('tbody')\n",
        "for tr in body.find_all('tr'):\n",
        "  tds = tr.find_all('td')\n",
        "  ten = tds[1].text\n",
        "  so_tin_chi = tds[4].find('code').text\n",
        "  arrHocPhan.append(HocPhan(ten, so_tin_chi))"
      ]
    },
    {
      "cell_type": "code",
      "execution_count": null,
      "metadata": {
        "id": "vqSrECaVzqYw"
      },
      "outputs": [],
      "source": [
        "import json\n",
        "serialized_data = []\n",
        "for hocphan in arrHocPhan:\n",
        "    serialized_data.append({\n",
        "        'ten': hocphan.ten,\n",
        "        'so_tin_chi': hocphan.so_tin_chi\n",
        "    })\n",
        "\n",
        "filename = 'hocphan_data.json'\n",
        "with open(filename, 'w', encoding='utf-8') as file:\n",
        "    json.dump(serialized_data, file, ensure_ascii=False, indent=4)\n"
      ]
    },
    {
      "cell_type": "code",
      "execution_count": null,
      "metadata": {
        "id": "HiydTgGdwP3q"
      },
      "outputs": [],
      "source": [
        "import csv\n",
        "\n",
        "with open('daotao.csv', 'w', encoding='utf-8-sig', newline='') as f:\n",
        "    writer = csv.writer(f)\n",
        "    writer.writerow( ['Tên học phần', 'Số tín chỉ'])\n",
        "    for hocPhan in arrHocPhan:\n",
        "        writer.writerow([hocPhan.ten, hocPhan.so_tin_chi])\n"
      ]
    }
  ],
  "metadata": {
    "colab": {
      "provenance": []
    },
    "kernelspec": {
      "display_name": "Python 3",
      "name": "python3"
    },
    "language_info": {
      "name": "python"
    }
  },
  "nbformat": 4,
  "nbformat_minor": 0
}
